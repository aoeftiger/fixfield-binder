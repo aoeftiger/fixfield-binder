{
 "cells": [
  {
   "cell_type": "markdown",
   "id": "dc09a53b",
   "metadata": {},
   "source": [
    "# FixField for vFFA"
   ]
  },
  {
   "cell_type": "code",
   "execution_count": 5,
   "id": "322e742f",
   "metadata": {},
   "outputs": [],
   "source": [
    "from imp import reload \n",
    "import extract_ff\n",
    "reload(extract_ff)\n",
    "from extract_ff import co_transfermatrix\n",
    "from extract_ff import run_fixfield\n",
    "import decoupling_matrix as dm"
   ]
  },
  {
   "cell_type": "code",
   "execution_count": 6,
   "id": "008dab4d",
   "metadata": {},
   "outputs": [
    {
     "name": "stdout",
     "output_type": "stream",
     "text": [
      "Running fixfield.exe...\n"
     ]
    }
   ],
   "source": [
    "run_fixfield()"
   ]
  },
  {
   "cell_type": "code",
   "execution_count": 7,
   "id": "64caa0bf",
   "metadata": {},
   "outputs": [
    {
     "data": {
      "text/plain": [
       "((4.3549332904, 1.133642699, -0.7576181612, -0.49242863955),\n",
       " array([[-0.309691, -1.104925,  0.254259,  0.267857],\n",
       "        [ 0.884571, -0.169877,  0.016405, -0.089778],\n",
       "        [-0.578807, -0.055106,  0.934627,  3.078908],\n",
       "        [-0.23545 , -0.054523, -0.079919,  0.79101 ]]))"
      ]
     },
     "execution_count": 7,
     "metadata": {},
     "output_type": "execute_result"
    }
   ],
   "source": [
    "(x_clo, xprime_clo, z_clo, zprime_clo), transfer_matrix = co_transfermatrix()\n",
    "\n",
    "(x_clo, xprime_clo, z_clo, zprime_clo), transfer_matrix"
   ]
  },
  {
   "cell_type": "code",
   "execution_count": 8,
   "id": "c713d075",
   "metadata": {},
   "outputs": [
    {
     "ename": "ValueError",
     "evalue": "eigenvalue is not unity value:",
     "output_type": "error",
     "traceback": [
      "\u001b[0;31m---------------------------------------------------------------------------\u001b[0m",
      "\u001b[0;31mValueError\u001b[0m                                Traceback (most recent call last)",
      "Input \u001b[0;32mIn [8]\u001b[0m, in \u001b[0;36m<cell line: 1>\u001b[0;34m()\u001b[0m\n\u001b[0;32m----> 1\u001b[0m \u001b[43mdm\u001b[49m\u001b[38;5;241;43m.\u001b[39;49m\u001b[43mget_tunes\u001b[49m\u001b[43m(\u001b[49m\u001b[43mtransfer_matrix\u001b[49m\u001b[43m)\u001b[49m\n",
      "File \u001b[0;32m~/Repositories/github/fixfield-binder/decoupling_matrix.py:159\u001b[0m, in \u001b[0;36mget_tunes\u001b[0;34m(matrix)\u001b[0m\n\u001b[1;32m    154\u001b[0m \u001b[38;5;66;03m#print \"after pairing eigenvalues:\"\u001b[39;00m\n\u001b[1;32m    155\u001b[0m \u001b[38;5;66;03m#for i in range(4): print eigenvalues[i]\u001b[39;00m\n\u001b[1;32m    157\u001b[0m \u001b[38;5;28;01mfor\u001b[39;00m j \u001b[38;5;129;01min\u001b[39;00m \u001b[38;5;28mrange\u001b[39m(\u001b[38;5;241m0\u001b[39m,\u001b[38;5;241m4\u001b[39m,\u001b[38;5;241m2\u001b[39m):\n\u001b[1;32m    158\u001b[0m     \u001b[38;5;66;03m# Unity test of absolute value\u001b[39;00m\n\u001b[0;32m--> 159\u001b[0m     \u001b[38;5;28;01mif\u001b[39;00m \u001b[38;5;28mabs\u001b[39m(\u001b[38;5;28mabs\u001b[39m(eigenvalues[j])\u001b[38;5;241m-\u001b[39m\u001b[38;5;241m1\u001b[39m)\u001b[38;5;241m>\u001b[39m\u001b[38;5;241m1.e-3\u001b[39m: \u001b[38;5;28;01mraise\u001b[39;00m \u001b[38;5;167;01mValueError\u001b[39;00m(\u001b[38;5;124m\"\u001b[39m\u001b[38;5;124meigenvalue is not unity value:\u001b[39m\u001b[38;5;124m\"\u001b[39m)\n\u001b[1;32m    160\u001b[0m     \u001b[38;5;66;03m#put >0 imaginary part first, 0<tunes<0.5\u001b[39;00m\n\u001b[1;32m    161\u001b[0m     \u001b[38;5;28;01mif\u001b[39;00m \u001b[38;5;28mabs\u001b[39m(numpy\u001b[38;5;241m.\u001b[39mimag(eigenvalues[j]))\u001b[38;5;241m>\u001b[39m\u001b[38;5;241m1.e-12\u001b[39m \u001b[38;5;129;01mand\u001b[39;00m numpy\u001b[38;5;241m.\u001b[39mimag(eigenvalues[j])\u001b[38;5;241m<\u001b[39m\u001b[38;5;241m0\u001b[39m:\n",
      "\u001b[0;31mValueError\u001b[0m: eigenvalue is not unity value:"
     ]
    }
   ],
   "source": [
    "dm.get_tunes(transfer_matrix)"
   ]
  },
  {
   "cell_type": "code",
   "execution_count": 9,
   "id": "312ee406",
   "metadata": {},
   "outputs": [
    {
     "ename": "ValueError",
     "evalue": "eigenvalue is not unity value:",
     "output_type": "error",
     "traceback": [
      "\u001b[0;31m---------------------------------------------------------------------------\u001b[0m",
      "\u001b[0;31mValueError\u001b[0m                                Traceback (most recent call last)",
      "Input \u001b[0;32mIn [9]\u001b[0m, in \u001b[0;36m<cell line: 1>\u001b[0;34m()\u001b[0m\n\u001b[0;32m----> 1\u001b[0m r, r_inv, t \u001b[38;5;241m=\u001b[39m \u001b[43mdm\u001b[49m\u001b[38;5;241;43m.\u001b[39;49m\u001b[43mdecoupling_matrix\u001b[49m\u001b[43m(\u001b[49m\u001b[43mtransfer_matrix\u001b[49m\u001b[43m)\u001b[49m\n\u001b[1;32m      3\u001b[0m r, r_inv, t\n",
      "File \u001b[0;32m~/Repositories/github/fixfield-binder/decoupling_matrix.py:41\u001b[0m, in \u001b[0;36mdecoupling_matrix\u001b[0;34m(matrix)\u001b[0m\n\u001b[1;32m     34\u001b[0m \u001b[38;5;66;03m#print \"after pairing eigenvalues:\"\u001b[39;00m\n\u001b[1;32m     35\u001b[0m \u001b[38;5;66;03m#for i in range(4): print eigenvalues[i]\u001b[39;00m\n\u001b[1;32m     36\u001b[0m \u001b[38;5;66;03m#print \"eigenvectors:\"\u001b[39;00m\n\u001b[1;32m     37\u001b[0m \u001b[38;5;66;03m#print eigenvectors\u001b[39;00m\n\u001b[1;32m     39\u001b[0m \u001b[38;5;28;01mfor\u001b[39;00m j \u001b[38;5;129;01min\u001b[39;00m \u001b[38;5;28mrange\u001b[39m(\u001b[38;5;241m0\u001b[39m,\u001b[38;5;241m4\u001b[39m,\u001b[38;5;241m2\u001b[39m):\n\u001b[1;32m     40\u001b[0m     \u001b[38;5;66;03m# Unity test of absolute value\u001b[39;00m\n\u001b[0;32m---> 41\u001b[0m     \u001b[38;5;28;01mif\u001b[39;00m \u001b[38;5;28mabs\u001b[39m(\u001b[38;5;28mabs\u001b[39m(eigenvalues[j])\u001b[38;5;241m-\u001b[39m\u001b[38;5;241m1\u001b[39m)\u001b[38;5;241m>\u001b[39m\u001b[38;5;241m1.e-3\u001b[39m: \u001b[38;5;28;01mraise\u001b[39;00m \u001b[38;5;167;01mValueError\u001b[39;00m(\u001b[38;5;124m\"\u001b[39m\u001b[38;5;124meigenvalue is not unity value:\u001b[39m\u001b[38;5;124m\"\u001b[39m)\n\u001b[1;32m     42\u001b[0m     \u001b[38;5;66;03m#put >0 imaginary part first\u001b[39;00m\n\u001b[1;32m     43\u001b[0m     \u001b[38;5;28;01mif\u001b[39;00m \u001b[38;5;28mabs\u001b[39m(numpy\u001b[38;5;241m.\u001b[39mimag(eigenvalues[j]))\u001b[38;5;241m>\u001b[39m\u001b[38;5;241m1.e-12\u001b[39m \u001b[38;5;129;01mand\u001b[39;00m numpy\u001b[38;5;241m.\u001b[39mimag(eigenvalues[j])\u001b[38;5;241m<\u001b[39m\u001b[38;5;241m0\u001b[39m:\n",
      "\u001b[0;31mValueError\u001b[0m: eigenvalue is not unity value:"
     ]
    }
   ],
   "source": [
    "r, r_inv, t = dm.decoupling_matrix(transfer_matrix)\n",
    "\n",
    "r, r_inv, t"
   ]
  },
  {
   "cell_type": "code",
   "execution_count": null,
   "id": "df733214",
   "metadata": {},
   "outputs": [],
   "source": []
  }
 ],
 "metadata": {
  "kernelspec": {
   "display_name": "Python 3 (ipykernel)",
   "language": "python",
   "name": "python3"
  },
  "language_info": {
   "codemirror_mode": {
    "name": "ipython",
    "version": 3
   },
   "file_extension": ".py",
   "mimetype": "text/x-python",
   "name": "python",
   "nbconvert_exporter": "python",
   "pygments_lexer": "ipython3",
   "version": "3.8.10"
  }
 },
 "nbformat": 4,
 "nbformat_minor": 5
}
