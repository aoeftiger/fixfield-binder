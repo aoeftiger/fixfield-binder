{
 "cells": [
  {
   "cell_type": "markdown",
   "id": "d4f9eccc",
   "metadata": {},
   "source": [
    "# FixField for vFFA"
   ]
  },
  {
   "cell_type": "code",
   "execution_count": 1,
   "id": "73784b06",
   "metadata": {},
   "outputs": [],
   "source": [
    "from extract_ff import co_transfermatrix"
   ]
  },
  {
   "cell_type": "code",
   "execution_count": 2,
   "id": "12254ab2",
   "metadata": {},
   "outputs": [
    {
     "name": "stdout",
     "output_type": "stream",
     "text": [
      "Running fixfield.exe...\n",
      "Extracting results...\n"
     ]
    },
    {
     "data": {
      "text/plain": [
       "((4.3595109722, 2.9160396226e-10, -0.7286271952, -3.3374289908e-10),\n",
       " array([[-0.011999, -0.911261,  0.138038,  0.211073],\n",
       "        [ 1.106513, -0.011578, -0.146541, -0.28276 ],\n",
       "        [-0.285788,  0.209391,  0.782059,  3.079842],\n",
       "        [-0.146732,  0.13847 , -0.128942,  0.781689]]))"
      ]
     },
     "execution_count": 2,
     "metadata": {},
     "output_type": "execute_result"
    }
   ],
   "source": [
    "(x_clo, xprime_clo, z_clo, zprime_clo), transfer_matrix = co_transfermatrix()\n",
    "\n",
    "(x_clo, xprime_clo, z_clo, zprime_clo), transfer_matrix"
   ]
  }
 ],
 "metadata": {
  "kernelspec": {
   "display_name": "Python 3",
   "language": "python",
   "name": "python3"
  },
  "language_info": {
   "codemirror_mode": {
    "name": "ipython",
    "version": 3
   },
   "file_extension": ".py",
   "mimetype": "text/x-python",
   "name": "python",
   "nbconvert_exporter": "python",
   "pygments_lexer": "ipython3",
   "version": "3.7.3"
  }
 },
 "nbformat": 4,
 "nbformat_minor": 5
}
