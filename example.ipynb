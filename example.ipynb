{
 "cells": [
  {
   "cell_type": "markdown",
   "metadata": {},
   "source": [
    "# FixField for vFFA"
   ]
  },
  {
   "cell_type": "code",
   "execution_count": 1,
   "metadata": {},
   "outputs": [
    {
     "name": "stdout",
     "output_type": "stream",
     "text": [
      "0.11059638588513682 0.11044803618570827\n"
     ]
    }
   ],
   "source": [
    "from extract_ff import co_transfermatrix, extract_da, run_fixfield, run_fixfield_da\n",
    "\n",
    "import decoupling_matrix as dm\n",
    "\n",
    "import numpy as np"
   ]
  },
  {
   "cell_type": "code",
   "execution_count": 2,
   "metadata": {},
   "outputs": [],
   "source": [
    "b0f, b0d, m, xs, tilt_deg = -1., 1.15, 1.31, 0, 0"
   ]
  },
  {
   "cell_type": "markdown",
   "metadata": {},
   "source": [
    "# PART A: closed orbit"
   ]
  },
  {
   "cell_type": "markdown",
   "metadata": {},
   "source": [
    "## 1. compute closed orbit and transfer matrix with `FixField`"
   ]
  },
  {
   "cell_type": "code",
   "execution_count": 3,
   "metadata": {},
   "outputs": [],
   "source": [
    "output_fn = 'output.txt'"
   ]
  },
  {
   "cell_type": "markdown",
   "metadata": {},
   "source": [
    "can take ~1min:"
   ]
  },
  {
   "cell_type": "code",
   "execution_count": 4,
   "metadata": {},
   "outputs": [
    {
     "name": "stdout",
     "output_type": "stream",
     "text": [
      "*** Running fixfield.exe...\n",
      "*** Finished running fixfield.exe, output file written!\n"
     ]
    }
   ],
   "source": [
    "run_fixfield(output_fn, b0f, b0d, m, xs, tilt_deg)"
   ]
  },
  {
   "cell_type": "code",
   "execution_count": 5,
   "metadata": {},
   "outputs": [],
   "source": [
    "#!cat output.txt"
   ]
  },
  {
   "cell_type": "code",
   "execution_count": 6,
   "metadata": {},
   "outputs": [
    {
     "data": {
      "text/plain": [
       "((4.359510989, 2.9023431458e-10, -0.7286268675, -3.2797377139e-10),\n",
       " array([[-0.011996, -0.911259,  0.138038,  0.211074],\n",
       "        [ 1.106516, -0.011575, -0.146542, -0.28276 ],\n",
       "        [-0.285788,  0.209392,  0.782058,  3.079843],\n",
       "        [-0.146732,  0.13847 , -0.128942,  0.781688]]))"
      ]
     },
     "execution_count": 6,
     "metadata": {},
     "output_type": "execute_result"
    }
   ],
   "source": [
    "(x_clo, xprime_clo, z_clo, zprime_clo), transfer_matrix = co_transfermatrix(output_fn)\n",
    "\n",
    "(x_clo, xprime_clo, z_clo, zprime_clo), transfer_matrix"
   ]
  },
  {
   "cell_type": "markdown",
   "metadata": {},
   "source": [
    "## 2. compute tunes and decoupling matrix"
   ]
  },
  {
   "cell_type": "code",
   "execution_count": 7,
   "metadata": {},
   "outputs": [
    {
     "data": {
      "text/plain": [
       "(0.24342766667449875, 0.12003865039207802)"
      ]
     },
     "execution_count": 7,
     "metadata": {},
     "output_type": "execute_result"
    }
   ],
   "source": [
    "dm.get_tunes(transfer_matrix)"
   ]
  },
  {
   "cell_type": "code",
   "execution_count": 8,
   "metadata": {},
   "outputs": [
    {
     "name": "stdout",
     "output_type": "stream",
     "text": [
      "norm<0\n",
      "j= 0\n",
      "beta: 0.951565596037006\n",
      "tune:  -0.24342766667449875 1-tune 0.7565723333255012\n",
      "j= 2\n",
      "beta: 4.381150016265674\n",
      "tune:  0.12003865039207802 1-tune 0.8799613496079219\n",
      "[[ 1.02513399e+00+8.49566505e-17j  2.50827431e-05-9.75482237e-01j\n",
      "   0.00000000e+00+0.00000000e+00j  0.00000000e+00+0.00000000e+00j]\n",
      " [-1.02513399e+00+8.49566505e-17j -2.50827431e-05-9.75482237e-01j\n",
      "   0.00000000e+00+0.00000000e+00j  0.00000000e+00+0.00000000e+00j]\n",
      " [ 0.00000000e+00+0.00000000e+00j  0.00000000e+00+0.00000000e+00j\n",
      "  -6.80630538e-06+4.77755767e-01j  2.09311969e+00+2.56333232e-16j]\n",
      " [ 0.00000000e+00+0.00000000e+00j  0.00000000e+00+0.00000000e+00j\n",
      "   6.80630538e-06+4.77755767e-01j -2.09311969e+00+2.56333232e-16j]]\n",
      "before final norm\n",
      "[[ 1.42980351e-21-2.07631135e+00j  4.95509685e-17-1.63728081e-16j\n",
      "  -6.43461502e-23-3.86730236e-01j  5.40148114e-17+3.10103969e-05j]\n",
      " [-8.42723178e-17+1.80830005e-16j -1.31694852e-21-2.07631135e+00j\n",
      "  -4.53413572e-18+3.81616394e-05j -5.40199481e-21+7.92425008e-01j]\n",
      " [-6.36629203e-21-8.00839262e-01j  7.70586301e-18-2.05327565e-04j\n",
      "   6.00217376e-23-2.07519992e+00j -2.45513865e-16-1.11341974e-15j]\n",
      " [-4.50714262e-18-1.09672500e-04j  1.15763440e-21+3.88428507e-01j\n",
      "   5.87549258e-18+5.80073573e-17j -6.28302135e-23-2.07519992e+00j]]\n",
      "R:\n",
      "[[ 1.03815567e+00+7.14901753e-22j  8.18640403e-17+2.47754843e-17j\n",
      "   1.93365118e-01-3.21730751e-23j -1.55051985e-05+2.70074057e-17j]\n",
      " [-9.04150024e-17-4.21361589e-17j  1.03815567e+00-6.58474262e-22j\n",
      "  -1.90808197e-05-2.26706786e-18j -3.96212504e-01-2.70099741e-21j]\n",
      " [ 4.00419631e-01-3.18314602e-21j  1.02663783e-04+3.85293150e-18j\n",
      "   1.03759996e+00+3.00108688e-23j  5.56709872e-16-1.22756932e-16j]\n",
      " [ 5.48362500e-05-2.25357131e-18j -1.94214253e-01+5.78817198e-22j\n",
      "  -2.90036787e-17+2.93774629e-18j  1.03759996e+00-3.14151068e-23j]]\n",
      "det: (1.0000032161118597-4.6721832956750705e-21j)\n",
      "T:\n",
      "[[ 4.12568029e-02+1.61893703e-17j -9.50732278e-01+6.33750636e-23j\n",
      "   1.06133248e-16+9.22094927e-18j  8.02757070e-16-3.55898799e-17j]\n",
      " [ 1.04997939e+00-8.04946408e-22j  4.13081842e-02-1.61893703e-17j\n",
      "  -3.25616262e-16+8.15705394e-19j -2.32050122e-16+5.79282086e-17j]\n",
      " [ 2.38624512e-16-2.53413879e-17j  2.65573323e-16-4.07307518e-18j\n",
      "   7.28795252e-01-1.37864480e-17j  2.99988993e+00-9.81305619e-21j]\n",
      " [-9.21464197e-17-7.23260891e-18j  3.53016140e-17-9.07726821e-18j\n",
      "  -1.56289238e-01-6.00903990e-22j  7.28814761e-01+1.37864480e-17j]]\n",
      "det: (0.9999607919964655+3.0813670920306705e-33j)\n"
     ]
    },
    {
     "data": {
      "text/plain": [
       "(array([[ 1.03815567e+00+7.14901753e-22j,  8.18640403e-17+2.47754843e-17j,\n",
       "          1.93365118e-01-3.21730751e-23j, -1.55051985e-05+2.70074057e-17j],\n",
       "        [-9.04150024e-17-4.21361589e-17j,  1.03815567e+00-6.58474262e-22j,\n",
       "         -1.90808197e-05-2.26706786e-18j, -3.96212504e-01-2.70099741e-21j],\n",
       "        [ 4.00419631e-01-3.18314602e-21j,  1.02663783e-04+3.85293150e-18j,\n",
       "          1.03759996e+00+3.00108688e-23j,  5.56709872e-16-1.22756932e-16j],\n",
       "        [ 5.48362500e-05-2.25357131e-18j, -1.94214253e-01+5.78817198e-22j,\n",
       "         -2.90036787e-17+2.93774629e-18j,  1.03759996e+00-3.14151068e-23j]]),\n",
       " array([[ 1.03784583e+00+3.57328354e-21j,  2.37224937e-05-3.59529634e-17j,\n",
       "         -1.93410936e-01-1.30701395e-21j,  2.45674201e-05-6.36247808e-17j],\n",
       "        [-3.04712481e-05+4.58148494e-17j,  1.03735082e+00+3.37648668e-21j,\n",
       "          2.47548008e-05-7.39296608e-18j,  3.96117366e-01+8.40812800e-21j],\n",
       "        [-4.00514510e-01-9.76731859e-21j, -1.11793866e-04+3.29942684e-17j,\n",
       "          1.03840167e+00+2.27806002e-21j, -4.86740424e-05+1.45875683e-16j],\n",
       "        [-6.05527432e-05+1.19635376e-17j,  1.94167618e-01+2.32732582e-21j,\n",
       "          1.48551139e-05-4.74387578e-18j,  1.03790640e+00+4.93793919e-21j]]),\n",
       " array([[ 4.12568029e-02+1.61893703e-17j, -9.50732278e-01+6.33750636e-23j,\n",
       "          1.06133248e-16+9.22094927e-18j,  8.02757070e-16-3.55898799e-17j],\n",
       "        [ 1.04997939e+00-8.04946408e-22j,  4.13081842e-02-1.61893703e-17j,\n",
       "         -3.25616262e-16+8.15705394e-19j, -2.32050122e-16+5.79282086e-17j],\n",
       "        [ 2.38624512e-16-2.53413879e-17j,  2.65573323e-16-4.07307518e-18j,\n",
       "          7.28795252e-01-1.37864480e-17j,  2.99988993e+00-9.81305619e-21j],\n",
       "        [-9.21464197e-17-7.23260891e-18j,  3.53016140e-17-9.07726821e-18j,\n",
       "         -1.56289238e-01-6.00903990e-22j,  7.28814761e-01+1.37864480e-17j]]))"
      ]
     },
     "execution_count": 8,
     "metadata": {},
     "output_type": "execute_result"
    }
   ],
   "source": [
    "r, r_inv, t = dm.decoupling_matrix(transfer_matrix)\n",
    "\n",
    "r, r_inv, t"
   ]
  },
  {
   "cell_type": "markdown",
   "metadata": {},
   "source": [
    "### decoupling matrix:"
   ]
  },
  {
   "cell_type": "code",
   "execution_count": 9,
   "metadata": {},
   "outputs": [
    {
     "data": {
      "text/plain": [
       "array([[ 1.0381557e+00,  0.0000000e+00,  1.9336510e-01, -1.5500000e-05],\n",
       "       [-0.0000000e+00,  1.0381557e+00, -1.9100000e-05, -3.9621250e-01],\n",
       "       [ 4.0041960e-01,  1.0270000e-04,  1.0376000e+00,  0.0000000e+00],\n",
       "       [ 5.4800000e-05, -1.9421430e-01, -0.0000000e+00,  1.0376000e+00]])"
      ]
     },
     "execution_count": 9,
     "metadata": {},
     "output_type": "execute_result"
    }
   ],
   "source": [
    "np.round(r.real, 7)"
   ]
  },
  {
   "cell_type": "markdown",
   "metadata": {},
   "source": [
    "# PART B: dynamic aperture"
   ]
  },
  {
   "cell_type": "code",
   "execution_count": 10,
   "metadata": {},
   "outputs": [],
   "source": [
    "output_da_fn = 'output_da2.txt'"
   ]
  },
  {
   "cell_type": "markdown",
   "metadata": {},
   "source": [
    "decoupled amplitudes to check:"
   ]
  },
  {
   "cell_type": "code",
   "execution_count": 11,
   "metadata": {},
   "outputs": [],
   "source": [
    "u, v = 0.022, 0.022"
   ]
  },
  {
   "cell_type": "markdown",
   "metadata": {},
   "source": [
    "can take ~10min:"
   ]
  },
  {
   "cell_type": "code",
   "execution_count": 12,
   "metadata": {},
   "outputs": [
    {
     "name": "stdout",
     "output_type": "stream",
     "text": [
      "*** Running fixfield-da.exe...\n",
      "*** Finished running fixfield.exe, output file written!\n"
     ]
    }
   ],
   "source": [
    "run_fixfield_da(output_da_fn, b0f, b0d, m, xs, tilt_deg, x_clo, z_clo, r, u, v)"
   ]
  },
  {
   "cell_type": "markdown",
   "metadata": {},
   "source": [
    "NB: make sure there's only 1 keyword to be read, as a setting in `proton3mev.beam` (otherwise the closed orbit is determined at each amplitude, taking away time)!"
   ]
  },
  {
   "cell_type": "code",
   "execution_count": 13,
   "metadata": {},
   "outputs": [
    {
     "data": {
      "text/plain": [
       "((0.021, 0.021), True)"
      ]
     },
     "execution_count": 13,
     "metadata": {},
     "output_type": "execute_result"
    }
   ],
   "source": [
    "extract_da('output_da.txt')"
   ]
  },
  {
   "cell_type": "code",
   "execution_count": 14,
   "metadata": {},
   "outputs": [
    {
     "data": {
      "text/plain": [
       "((0.022, 0.022), False)"
      ]
     },
     "execution_count": 14,
     "metadata": {},
     "output_type": "execute_result"
    }
   ],
   "source": [
    "extract_da('output_da2.txt')"
   ]
  }
 ],
 "metadata": {
  "kernelspec": {
   "display_name": "Python 3",
   "language": "python",
   "name": "python3"
  },
  "language_info": {
   "codemirror_mode": {
    "name": "ipython",
    "version": 3
   },
   "file_extension": ".py",
   "mimetype": "text/x-python",
   "name": "python",
   "nbconvert_exporter": "python",
   "pygments_lexer": "ipython3",
   "version": "3.7.6"
  }
 },
 "nbformat": 4,
 "nbformat_minor": 5
}
